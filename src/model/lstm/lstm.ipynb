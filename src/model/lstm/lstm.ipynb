{
 "cells": [
  {
   "cell_type": "code",
   "id": "initial_id",
   "metadata": {
    "collapsed": true,
    "ExecuteTime": {
     "end_time": "2024-10-08T23:47:47.632925Z",
     "start_time": "2024-10-08T23:47:30.323017Z"
    }
   },
   "source": [
    "from src.processing.features.zyskowski import ZyskowskiFeatureExtractor\n",
    "from src.processing.process import process\n",
    "from src.model.data.dataset import DuelDataset\n",
    "\n",
    "data = process(path=\"../../../res/json\", extractor=ZyskowskiFeatureExtractor())\n",
    "dataset = DuelDataset(features=data[0], labels=data[1])\n",
    "print(dataset.x_temporal.shape)\n",
    "print(dataset.x_snapshot.shape)"
   ],
   "outputs": [
    {
     "name": "stdout",
     "output_type": "stream",
     "text": [
      "error parsing round: 'NoneType' object is not iterable\n",
      "error parsing round: 'NoneType' object is not iterable\n",
      "torch.Size([2690, 14, 4])\n",
      "torch.Size([2690, 80])\n"
     ]
    }
   ],
   "execution_count": 1
  },
  {
   "metadata": {
    "ExecuteTime": {
     "end_time": "2024-10-08T23:47:47.640488Z",
     "start_time": "2024-10-08T23:47:47.638413Z"
    }
   },
   "cell_type": "code",
   "source": [
    "import torch\n",
    "from torch.utils.data import random_split\n",
    "\n",
    "test_dataset, train_dataset = random_split(dataset, [0.2, 0.8], generator=torch.Generator().manual_seed(42))"
   ],
   "id": "210007730db8f918",
   "outputs": [],
   "execution_count": 2
  },
  {
   "metadata": {
    "ExecuteTime": {
     "end_time": "2024-10-08T23:55:40.422492Z",
     "start_time": "2024-10-08T23:55:40.419550Z"
    }
   },
   "cell_type": "code",
   "source": "print(len(dataset), len(test_dataset), len(train_dataset))",
   "id": "d06d3b30b9a08061",
   "outputs": [
    {
     "name": "stdout",
     "output_type": "stream",
     "text": [
      "2690 538 2152\n"
     ]
    }
   ],
   "execution_count": 4
  },
  {
   "metadata": {
    "ExecuteTime": {
     "end_time": "2024-10-11T13:31:33.967217Z",
     "start_time": "2024-10-11T13:31:33.960879Z"
    }
   },
   "cell_type": "code",
   "source": [
    "import os\n",
    "from torch import optim, nn, utils, Tensor\n",
    "import lightning as L\n",
    "\n",
    "\n",
    "class Model(nn.Module):\n",
    "    def __init__(self, temporal_size: int, snapshot_size: int):\n",
    "        super().__init__()\n",
    "        hidden_size = 128\n",
    "        num_layers = 8\n",
    "        self.lstm = nn.LSTM(temporal_size, hidden_size, dropout=0.3, bidirectional=False, batch_first=True,\n",
    "                            num_layers=num_layers)\n",
    "        self.tlinear = nn.Linear(hidden_size * num_layers, 32)\n",
    "        self.slinear = nn.Linear(snapshot_size, 32)\n",
    "        self.output_layer = nn.Linear(64, 1)\n",
    "\n",
    "    def forward(self, temporal_x, snapshot_x):\n",
    "        o, (h, c) = self.lstm(temporal_x)\n",
    "        h = h.movedim(1, 0).flatten(start_dim=1)\n",
    "        tfeatures = self.tlinear(h)\n",
    "        sfeatures = self.slinear(snapshot_x)\n",
    "        output_logit = self.output_layer(torch.cat([tfeatures, sfeatures], dim=-1))\n",
    "        return output_logit\n",
    "\n",
    "\n",
    "class LitModel(L.LightningModule):\n",
    "    def __init__(self, ann):\n",
    "        super().__init__()\n",
    "        self.ann = ann\n",
    "\n",
    "    def training_step(self, batch, batch_idx):\n",
    "        # training_step defines the train loop.\n",
    "        # it is independent of forward\n",
    "        x_temporal, x_snapshot, y = batch\n",
    "        x_snapshot = x_snapshot.float()\n",
    "\n",
    "        logit = self.ann(x_temporal, x_snapshot)\n",
    "        loss = nn.functional.binary_cross_entropy(nn.functional.sigmoid(logit.flatten()), y.float())\n",
    "        # Logging to TensorBoard (if installed) by default\n",
    "        self.log(\"train_loss\", loss, on_step=True, on_epoch=True, prog_bar=True, logger=True)\n",
    "        return loss\n",
    "\n",
    "    # def validation_step(self, batch, batch_idx):\n",
    "    #     # this is the test loop\n",
    "    #     x_temporal, x_snapshot, y = batch\n",
    "    #     logit = self.ann(x_temporal, x_snapshot)\n",
    "    #     loss = nn.functional.binary_cross_entropy(nn.functional.sigmoid(logit.flatten()), y.float())\n",
    "    #     self.log(\"test_loss\", loss)\n",
    "\n",
    "    def configure_optimizers(self):\n",
    "        optimizer = optim.Adam(self.parameters(), lr=1e-3)\n",
    "        return optimizer"
   ],
   "id": "88b106077c3acee1",
   "outputs": [],
   "execution_count": 83
  },
  {
   "metadata": {
    "ExecuteTime": {
     "end_time": "2024-10-11T13:22:47.654798Z",
     "start_time": "2024-10-11T13:22:45.543467Z"
    }
   },
   "cell_type": "code",
   "source": [
    "train_dataloader = torch.utils.data.DataLoader(train_dataset, batch_size=32, shuffle=True, num_workers=10)\n",
    "test_dataloader = torch.utils.data.DataLoader(test_dataset, batch_size=32, shuffle=False, num_workers=10)\n",
    "\n",
    "for temporal, snapshot, y in train_dataloader:\n",
    "    print(temporal.shape, snapshot.shape, y.shape)\n",
    "    break"
   ],
   "id": "505a7bd357bd9ada",
   "outputs": [
    {
     "name": "stdout",
     "output_type": "stream",
     "text": [
      "torch.Size([32, 14, 4]) torch.Size([32, 80]) torch.Size([32])\n"
     ]
    }
   ],
   "execution_count": 78
  },
  {
   "metadata": {
    "ExecuteTime": {
     "end_time": "2024-10-11T13:31:44.628995Z",
     "start_time": "2024-10-11T13:31:36.974776Z"
    }
   },
   "cell_type": "code",
   "source": [
    "model = LitModel(Model(4, 80))\n",
    "trainer = L.Trainer(max_epochs=50)\n",
    "trainer.fit(model=model, train_dataloaders=train_dataloader, val_dataloaders=test_dataloader)"
   ],
   "id": "d34885cc6a4270c4",
   "outputs": [
    {
     "name": "stderr",
     "output_type": "stream",
     "text": [
      "GPU available: True (mps), used: True\n",
      "TPU available: False, using: 0 TPU cores\n",
      "HPU available: False, using: 0 HPUs\n",
      "\n",
      "  | Name | Type  | Params | Mode \n",
      "---------------------------------------\n",
      "0 | ann  | Model | 1.0 M  | train\n",
      "---------------------------------------\n",
      "1.0 M     Trainable params\n",
      "0         Non-trainable params\n",
      "1.0 M     Total params\n",
      "4.115     Total estimated model params size (MB)\n",
      "5         Modules in train mode\n",
      "0         Modules in eval mode\n"
     ]
    },
    {
     "name": "stdout",
     "output_type": "stream",
     "text": [
      "Epoch 2:   0%|          | 0/68 [00:00<?, ?it/s, v_num=19, train_loss_step=37.50, train_loss_epoch=47.40]         "
     ]
    },
    {
     "name": "stderr",
     "output_type": "stream",
     "text": [
      "Exception ignored in: <function _MultiProcessingDataLoaderIter.__del__ at 0x177a7ce50>\n",
      "Traceback (most recent call last):\n",
      "  File \"/Users/ktz/opt/anaconda3/envs/cs2-duels/lib/python3.10/site-packages/torch/utils/data/dataloader.py\", line 1477, in __del__\n",
      "    self._shutdown_workers()\n",
      "  File \"/Users/ktz/opt/anaconda3/envs/cs2-duels/lib/python3.10/site-packages/torch/utils/data/dataloader.py\", line 1441, in _shutdown_workers\n",
      "    w.join(timeout=_utils.MP_STATUS_CHECK_INTERVAL)\n",
      "  File \"/Users/ktz/opt/anaconda3/envs/cs2-duels/lib/python3.10/multiprocessing/process.py\", line 149, in join\n",
      "Traceback (most recent call last):\n",
      "  File \"<string>\", line 1, in <module>\n",
      "  File \"/Users/ktz/opt/anaconda3/envs/cs2-duels/lib/python3.10/multiprocessing/spawn.py\", line 116, in spawn_main\n",
      "    exitcode = _main(fd, parent_sentinel)\n",
      "  File \"/Users/ktz/opt/anaconda3/envs/cs2-duels/lib/python3.10/multiprocessing/spawn.py\", line 126, in _main\n",
      "    self = reduction.pickle.load(from_parent)\n",
      "  File \"/Users/ktz/opt/anaconda3/envs/cs2-duels/lib/python3.10/site-packages/torch/__init__.py\", line 1755, in <module>\n",
      "    from .functional import *  # noqa: F403\n",
      "  File \"/Users/ktz/opt/anaconda3/envs/cs2-duels/lib/python3.10/site-packages/torch/functional.py\", line 10, in <module>\n",
      "    import torch.nn.functional as F\n",
      "  File \"/Users/ktz/opt/anaconda3/envs/cs2-duels/lib/python3.10/site-packages/torch/nn/__init__.py\", line 2, in <module>\n",
      "Traceback (most recent call last):\n",
      "  File \"<string>\", line 1, in <module>\n",
      "  File \"/Users/ktz/opt/anaconda3/envs/cs2-duels/lib/python3.10/multiprocessing/spawn.py\", line 116, in spawn_main\n",
      "    exitcode = _main(fd, parent_sentinel)\n",
      "  File \"/Users/ktz/opt/anaconda3/envs/cs2-duels/lib/python3.10/multiprocessing/spawn.py\", line 126, in _main\n",
      "    self = reduction.pickle.load(from_parent)\n",
      "  File \"/Users/ktz/opt/anaconda3/envs/cs2-duels/lib/python3.10/site-packages/torch/__init__.py\", line 2118, in <module>\n",
      "    from torch import export as export\n",
      "  File \"/Users/ktz/opt/anaconda3/envs/cs2-duels/lib/python3.10/site-packages/torch/export/__init__.py\", line 28, in <module>\n",
      "    from torch.fx.passes.infra.pass_base import PassResult\n",
      "  File \"/Users/ktz/opt/anaconda3/envs/cs2-duels/lib/python3.10/site-packages/torch/fx/passes/__init__.py\", line 1, in <module>\n",
      "    from . import graph_drawer\n",
      "  File \"/Users/ktz/opt/anaconda3/envs/cs2-duels/lib/python3.10/site-packages/torch/fx/passes/graph_drawer.py\", line 9, in <module>\n",
      "    from torch.fx.passes.shape_prop import TensorMetadata\n",
      "  File \"/Users/ktz/opt/anaconda3/envs/cs2-duels/lib/python3.10/site-packages/torch/fx/passes/shape_prop.py\", line 11, in <module>\n",
      "    from torch._guards import detect_fake_mode\n",
      "  File \"/Users/ktz/opt/anaconda3/envs/cs2-duels/lib/python3.10/site-packages/torch/_guards.py\", line 81, in <module>\n",
      "    class GuardSource(enum.Enum):\n",
      "  File \"/Users/ktz/opt/anaconda3/envs/cs2-duels/lib/python3.10/enum.py\", line 192, in __new__\n",
      "    __new__, save_new, use_args = metacls._find_new_(\n",
      "  File \"/Users/ktz/opt/anaconda3/envs/cs2-duels/lib/python3.10/enum.py\", line 649, in _find_new_\n",
      "Traceback (most recent call last):\n",
      "Traceback (most recent call last):\n",
      "  File \"<string>\", line 1, in <module>\n",
      "  File \"<string>\", line 1, in <module>\n",
      "  File \"/Users/ktz/opt/anaconda3/envs/cs2-duels/lib/python3.10/multiprocessing/spawn.py\", line 116, in spawn_main\n",
      "  File \"/Users/ktz/opt/anaconda3/envs/cs2-duels/lib/python3.10/multiprocessing/spawn.py\", line 116, in spawn_main\n",
      "    exitcode = _main(fd, parent_sentinel)\n",
      "  File \"/Users/ktz/opt/anaconda3/envs/cs2-duels/lib/python3.10/multiprocessing/spawn.py\", line 126, in _main\n",
      "    if target not in {\n",
      "KeyboardInterrupt\n",
      "Traceback (most recent call last):\n",
      "  File \"<string>\", line 1, in <module>\n",
      "  File \"/Users/ktz/opt/anaconda3/envs/cs2-duels/lib/python3.10/multiprocessing/spawn.py\", line 116, in spawn_main\n",
      "    exitcode = _main(fd, parent_sentinel)\n",
      "  File \"/Users/ktz/opt/anaconda3/envs/cs2-duels/lib/python3.10/multiprocessing/spawn.py\", line 126, in _main\n",
      "    self = reduction.pickle.load(from_parent)\n",
      "  File \"/Users/ktz/opt/anaconda3/envs/cs2-duels/lib/python3.10/site-packages/torch/__init__.py\", line 290, in <module>\n",
      "    from torch._C import *  # noqa: F403\n",
      "KeyboardInterrupt\n",
      "    from .modules import *  # noqa: F403\n",
      "  File \"/Users/ktz/opt/anaconda3/envs/cs2-duels/lib/python3.10/site-packages/torch/nn/modules/__init__.py\", line 2, in <module>\n",
      "    from .linear import Identity, Linear, Bilinear, LazyLinear\n",
      "  File \"/Users/ktz/opt/anaconda3/envs/cs2-duels/lib/python3.10/site-packages/torch/nn/modules/linear.py\", line 8, in <module>\n",
      "    exitcode = _main(fd, parent_sentinel)\n",
      "  File \"/Users/ktz/opt/anaconda3/envs/cs2-duels/lib/python3.10/multiprocessing/spawn.py\", line 126, in _main\n",
      "    self = reduction.pickle.load(from_parent)\n",
      "  File \"/Users/ktz/opt/anaconda3/envs/cs2-duels/lib/python3.10/site-packages/torch/__init__.py\", line 1880, in <module>\n",
      "    from .. import functional as F\n",
      "  File \"/Users/ktz/opt/anaconda3/envs/cs2-duels/lib/python3.10/site-packages/torch/nn/functional.py\", line 25, in <module>\n",
      "    from .._jit_internal import boolean_dispatch, _overload, BroadcastingList1, BroadcastingList2, BroadcastingList3\n",
      "  File \"/Users/ktz/opt/anaconda3/envs/cs2-duels/lib/python3.10/site-packages/torch/_jit_internal.py\", line 46, in <module>\n",
      "    self = reduction.pickle.load(from_parent)\n",
      "  File \"/Users/ktz/opt/anaconda3/envs/cs2-duels/lib/python3.10/site-packages/torch/__init__.py\", line 2118, in <module>\n",
      "    from . import masked\n",
      "    import torch.package._mangling as package_mangling\n",
      "  File \"/Users/ktz/opt/anaconda3/envs/cs2-duels/lib/python3.10/site-packages/torch/package/__init__.py\", line 12, in <module>\n",
      "  File \"/Users/ktz/opt/anaconda3/envs/cs2-duels/lib/python3.10/site-packages/torch/masked/__init__.py\", line 1, in <module>\n",
      "    res = self._popen.wait(timeout)\n",
      "  File \"/Users/ktz/opt/anaconda3/envs/cs2-duels/lib/python3.10/multiprocessing/popen_fork.py\", line 40, in wait\n",
      "    from .package_importer import PackageImporter\n",
      "  File \"<frozen importlib._bootstrap>\", line 1027, in _find_and_load\n",
      "    from torch.masked._ops import (\n",
      "  File \"/Users/ktz/opt/anaconda3/envs/cs2-duels/lib/python3.10/site-packages/torch/masked/_ops.py\", line 9, in <module>\n",
      "  File \"<frozen importlib._bootstrap>\", line 1006, in _find_and_load_unlocked\n",
      "  File \"<frozen importlib._bootstrap>\", line 688, in _load_unlocked\n",
      "  File \"<frozen importlib._bootstrap_external>\", line 879, in exec_module\n",
      "  File \"<frozen importlib._bootstrap_external>\", line 1012, in get_code\n",
      "    from torch import export as export\n",
      "  File \"/Users/ktz/opt/anaconda3/envs/cs2-duels/lib/python3.10/site-packages/torch/export/__init__.py\", line 64, in <module>\n",
      "  File \"<frozen importlib._bootstrap_external>\", line 672, in _compile_bytecode\n",
      "KeyboardInterrupt\n",
      "    from torch.masked.maskedtensor.core import is_masked_tensor, MaskedTensor\n",
      "  File \"/Users/ktz/opt/anaconda3/envs/cs2-duels/lib/python3.10/site-packages/torch/masked/maskedtensor/__init__.py\", line 8, in <module>\n",
      "    from .dynamic_shapes import Constraint, Dim, dims, dynamic_dim, ShapesCollection\n",
      "  File \"/Users/ktz/opt/anaconda3/envs/cs2-duels/lib/python3.10/site-packages/torch/export/dynamic_shapes.py\", line 19, in <module>\n",
      "    if not wait([self.sentinel], timeout):\n",
      "  File \"/Users/ktz/opt/anaconda3/envs/cs2-duels/lib/python3.10/multiprocessing/connection.py\", line 931, in wait\n",
      "    from .unary import _apply_native_unary, _is_native_unary\n",
      "  File \"/Users/ktz/opt/anaconda3/envs/cs2-duels/lib/python3.10/site-packages/torch/masked/maskedtensor/unary.py\", line 169, in <module>\n",
      "    from .exported_program import ExportedProgram\n",
      "  File \"/Users/ktz/opt/anaconda3/envs/cs2-duels/lib/python3.10/site-packages/torch/export/exported_program.py\", line 39, in <module>\n",
      "    NATIVE_UNARY_MAP = {\n",
      "  File \"/Users/ktz/opt/anaconda3/envs/cs2-duels/lib/python3.10/site-packages/torch/masked/maskedtensor/unary.py\", line 170, in <dictcomp>\n",
      "    getattr(torch.ops.aten, name): _torch_unary(name) for name in UNARY_NAMES\n",
      "  File \"/Users/ktz/opt/anaconda3/envs/cs2-duels/lib/python3.10/site-packages/torch/_ops.py\", line 1181, in __getattr__\n",
      "    ready = selector.select(timeout)\n",
      "  File \"/Users/ktz/opt/anaconda3/envs/cs2-duels/lib/python3.10/selectors.py\", line 416, in select\n",
      "    from torch.fx.experimental.proxy_tensor import maybe_disable_fake_tensor_mode\n",
      "  File \"/Users/ktz/opt/anaconda3/envs/cs2-duels/lib/python3.10/site-packages/torch/fx/experimental/proxy_tensor.py\", line 279, in <module>\n",
      "    fd_event_list = self._selector.poll(timeout)\n",
      "KeyboardInterrupt: \n",
      "    class _ProxyTensor:\n",
      "  File \"/Users/ktz/opt/anaconda3/envs/cs2-duels/lib/python3.10/dataclasses.py\", line 1184, in dataclass\n",
      "    opoverloadpacket = OpOverloadPacket(\n",
      "  File \"/Users/ktz/opt/anaconda3/envs/cs2-duels/lib/python3.10/site-packages/torch/_ops.py\", line 967, in __init__\n",
      "    self._has_torchbind_op_overload = any(\n",
      "  File \"/Users/ktz/opt/anaconda3/envs/cs2-duels/lib/python3.10/site-packages/torch/_ops.py\", line 968, in <genexpr>\n",
      "    _has_script_object_arg(schema) for schema in self._schemas.values()\n",
      "  File \"/Users/ktz/opt/anaconda3/envs/cs2-duels/lib/python3.10/site-packages/torch/_ops.py\", line 953, in _has_script_object_arg\n",
      "    return any(isinstance(arg.type, torch.ClassType) for arg in schema.arguments)\n",
      "KeyboardInterrupt\n",
      "    return wrap(cls)\n",
      "  File \"/Users/ktz/opt/anaconda3/envs/cs2-duels/lib/python3.10/dataclasses.py\", line 1175, in wrap\n",
      "    return _process_class(cls, init, repr, eq, order, unsafe_hash,\n",
      "  File \"/Users/ktz/opt/anaconda3/envs/cs2-duels/lib/python3.10/dataclasses.py\", line 1093, in _process_class\n",
      "    str(inspect.signature(cls)).replace(' -> None', ''))\n",
      "  File \"/Users/ktz/opt/anaconda3/envs/cs2-duels/lib/python3.10/inspect.py\", line 3254, in signature\n",
      "    return Signature.from_callable(obj, follow_wrapped=follow_wrapped,\n",
      "  File \"/Users/ktz/opt/anaconda3/envs/cs2-duels/lib/python3.10/inspect.py\", line 3002, in from_callable\n",
      "    return _signature_from_callable(obj, sigcls=cls,\n",
      "  File \"/Users/ktz/opt/anaconda3/envs/cs2-duels/lib/python3.10/inspect.py\", line 2501, in _signature_from_callable\n",
      "    sig = _get_signature_of(factory_method)\n",
      "  File \"/Users/ktz/opt/anaconda3/envs/cs2-duels/lib/python3.10/inspect.py\", line 2463, in _signature_from_callable\n",
      "    return _signature_from_function(sigcls, obj,\n",
      "  File \"/Users/ktz/opt/anaconda3/envs/cs2-duels/lib/python3.10/inspect.py\", line 2325, in _signature_from_function\n",
      "    parameters.append(Parameter(name, annotation=annotation,\n",
      "  File \"/Users/ktz/opt/anaconda3/envs/cs2-duels/lib/python3.10/inspect.py\", line 2639, in __init__\n",
      "    self._kind = _ParameterKind(kind)\n",
      "  File \"/Users/ktz/opt/anaconda3/envs/cs2-duels/lib/python3.10/enum.py\", line 385, in __call__\n",
      "    return cls.__new__(cls, value)\n",
      "  File \"/Users/ktz/opt/anaconda3/envs/cs2-duels/lib/python3.10/enum.py\", line 678, in __new__\n",
      "    def __new__(cls, value):\n",
      "KeyboardInterrupt\n",
      "Traceback (most recent call last):\n",
      "  File \"<string>\", line 1, in <module>\n",
      "  File \"/Users/ktz/opt/anaconda3/envs/cs2-duels/lib/python3.10/multiprocessing/spawn.py\", line 116, in spawn_main\n",
      "    exitcode = _main(fd, parent_sentinel)\n",
      "  File \"/Users/ktz/opt/anaconda3/envs/cs2-duels/lib/python3.10/multiprocessing/spawn.py\", line 126, in _main\n",
      "    self = reduction.pickle.load(from_parent)\n",
      "  File \"/Users/ktz/opt/anaconda3/envs/cs2-duels/lib/python3.10/site-packages/torch/__init__.py\", line 1755, in <module>\n",
      "    from .functional import *  # noqa: F403\n",
      "  File \"/Users/ktz/opt/anaconda3/envs/cs2-duels/lib/python3.10/site-packages/torch/functional.py\", line 10, in <module>\n",
      "    import torch.nn.functional as F\n",
      "  File \"/Users/ktz/opt/anaconda3/envs/cs2-duels/lib/python3.10/site-packages/torch/nn/__init__.py\", line 2, in <module>\n",
      "    from .modules import *  # noqa: F403\n",
      "  File \"/Users/ktz/opt/anaconda3/envs/cs2-duels/lib/python3.10/site-packages/torch/nn/modules/__init__.py\", line 1, in <module>\n",
      "    from .module import Module\n",
      "  File \"/Users/ktz/opt/anaconda3/envs/cs2-duels/lib/python3.10/site-packages/torch/nn/modules/module.py\", line 17, in <module>\n",
      "    from torch.utils._python_dispatch import is_traceable_wrapper_subclass\n",
      "  File \"/Users/ktz/opt/anaconda3/envs/cs2-duels/lib/python3.10/site-packages/torch/utils/_python_dispatch.py\", line 10, in <module>\n",
      "    import torchgen.model\n",
      "  File \"/Users/ktz/opt/anaconda3/envs/cs2-duels/lib/python3.10/site-packages/torchgen/model.py\", line 2774, in <module>\n",
      "    class Precompute:\n",
      "  File \"/Users/ktz/opt/anaconda3/envs/cs2-duels/lib/python3.10/dataclasses.py\", line 1175, in wrap\n",
      "    return _process_class(cls, init, repr, eq, order, unsafe_hash,\n",
      "  File \"/Users/ktz/opt/anaconda3/envs/cs2-duels/lib/python3.10/dataclasses.py\", line 1088, in _process_class\n",
      "    cls.__hash__ = hash_action(cls, field_list, globals)\n",
      "  File \"/Users/ktz/opt/anaconda3/envs/cs2-duels/lib/python3.10/dataclasses.py\", line 844, in _hash_add\n",
      "    return _set_qualname(cls, _hash_fn(flds, globals))\n",
      "  File \"/Users/ktz/opt/anaconda3/envs/cs2-duels/lib/python3.10/dataclasses.py\", line 639, in _hash_fn\n",
      "    return _create_fn('__hash__',\n",
      "  File \"/Users/ktz/opt/anaconda3/envs/cs2-duels/lib/python3.10/dataclasses.py\", line 432, in _create_fn\n",
      "    exec(txt, globals, ns)\n",
      "  File \"<string>\", line 1, in <module>\n",
      "KeyboardInterrupt\n",
      "Traceback (most recent call last):\n",
      "  File \"<string>\", line 1, in <module>\n",
      "  File \"/Users/ktz/opt/anaconda3/envs/cs2-duels/lib/python3.10/multiprocessing/spawn.py\", line 116, in spawn_main\n",
      "    exitcode = _main(fd, parent_sentinel)\n",
      "  File \"/Users/ktz/opt/anaconda3/envs/cs2-duels/lib/python3.10/multiprocessing/spawn.py\", line 126, in _main\n",
      "    self = reduction.pickle.load(from_parent)\n",
      "  File \"/Users/ktz/opt/anaconda3/envs/cs2-duels/lib/python3.10/site-packages/torch/__init__.py\", line 1755, in <module>\n",
      "    from .functional import *  # noqa: F403\n",
      "  File \"/Users/ktz/opt/anaconda3/envs/cs2-duels/lib/python3.10/site-packages/torch/functional.py\", line 10, in <module>\n",
      "    import torch.nn.functional as F\n",
      "  File \"/Users/ktz/opt/anaconda3/envs/cs2-duels/lib/python3.10/site-packages/torch/nn/__init__.py\", line 2, in <module>\n",
      "    from .modules import *  # noqa: F403\n",
      "  File \"/Users/ktz/opt/anaconda3/envs/cs2-duels/lib/python3.10/site-packages/torch/nn/modules/__init__.py\", line 28, in <module>\n",
      "    from .rnn import RNNBase, RNN, LSTM, GRU, \\\n",
      "  File \"/Users/ktz/opt/anaconda3/envs/cs2-duels/lib/python3.10/site-packages/torch/nn/modules/rnn.py\", line 13, in <module>\n",
      "    from ..utils.rnn import PackedSequence\n",
      "  File \"/Users/ktz/opt/anaconda3/envs/cs2-duels/lib/python3.10/site-packages/torch/nn/utils/__init__.py\", line 8, in <module>\n",
      "    from . import parametrizations\n",
      "  File \"/Users/ktz/opt/anaconda3/envs/cs2-duels/lib/python3.10/site-packages/torch/nn/utils/parametrizations.py\", line 35, in <module>\n",
      "    class _OrthMaps(Enum):\n",
      "  File \"/Users/ktz/opt/anaconda3/envs/cs2-duels/lib/python3.10/enum.py\", line 173, in __prepare__\n",
      "    member_type, first_enum = metacls._get_mixins_(cls, bases)\n",
      "  File \"/Users/ktz/opt/anaconda3/envs/cs2-duels/lib/python3.10/enum.py\", line 579, in _get_mixins_\n",
      "    @staticmethod\n",
      "KeyboardInterrupt\n"
     ]
    },
    {
     "ename": "RuntimeError",
     "evalue": "DataLoader worker (pid(s) 43842) exited unexpectedly",
     "output_type": "error",
     "traceback": [
      "\u001B[0;31m---------------------------------------------------------------------------\u001B[0m",
      "\u001B[0;31mRuntimeError\u001B[0m                              Traceback (most recent call last)",
      "File \u001B[0;32m~/opt/anaconda3/envs/cs2-duels/lib/python3.10/site-packages/torch/utils/data/dataloader.py:1131\u001B[0m, in \u001B[0;36m_MultiProcessingDataLoaderIter._try_get_data\u001B[0;34m(self, timeout)\u001B[0m\n\u001B[1;32m   1130\u001B[0m \u001B[38;5;28;01mtry\u001B[39;00m:\n\u001B[0;32m-> 1131\u001B[0m     data \u001B[38;5;241m=\u001B[39m \u001B[38;5;28;43mself\u001B[39;49m\u001B[38;5;241;43m.\u001B[39;49m\u001B[43m_data_queue\u001B[49m\u001B[38;5;241;43m.\u001B[39;49m\u001B[43mget\u001B[49m\u001B[43m(\u001B[49m\u001B[43mtimeout\u001B[49m\u001B[38;5;241;43m=\u001B[39;49m\u001B[43mtimeout\u001B[49m\u001B[43m)\u001B[49m\n\u001B[1;32m   1132\u001B[0m     \u001B[38;5;28;01mreturn\u001B[39;00m (\u001B[38;5;28;01mTrue\u001B[39;00m, data)\n",
      "File \u001B[0;32m~/opt/anaconda3/envs/cs2-duels/lib/python3.10/multiprocessing/queues.py:113\u001B[0m, in \u001B[0;36mQueue.get\u001B[0;34m(self, block, timeout)\u001B[0m\n\u001B[1;32m    112\u001B[0m timeout \u001B[38;5;241m=\u001B[39m deadline \u001B[38;5;241m-\u001B[39m time\u001B[38;5;241m.\u001B[39mmonotonic()\n\u001B[0;32m--> 113\u001B[0m \u001B[38;5;28;01mif\u001B[39;00m \u001B[38;5;129;01mnot\u001B[39;00m \u001B[38;5;28;43mself\u001B[39;49m\u001B[38;5;241;43m.\u001B[39;49m\u001B[43m_poll\u001B[49m\u001B[43m(\u001B[49m\u001B[43mtimeout\u001B[49m\u001B[43m)\u001B[49m:\n\u001B[1;32m    114\u001B[0m     \u001B[38;5;28;01mraise\u001B[39;00m Empty\n",
      "File \u001B[0;32m~/opt/anaconda3/envs/cs2-duels/lib/python3.10/multiprocessing/connection.py:257\u001B[0m, in \u001B[0;36m_ConnectionBase.poll\u001B[0;34m(self, timeout)\u001B[0m\n\u001B[1;32m    256\u001B[0m \u001B[38;5;28mself\u001B[39m\u001B[38;5;241m.\u001B[39m_check_readable()\n\u001B[0;32m--> 257\u001B[0m \u001B[38;5;28;01mreturn\u001B[39;00m \u001B[38;5;28;43mself\u001B[39;49m\u001B[38;5;241;43m.\u001B[39;49m\u001B[43m_poll\u001B[49m\u001B[43m(\u001B[49m\u001B[43mtimeout\u001B[49m\u001B[43m)\u001B[49m\n",
      "File \u001B[0;32m~/opt/anaconda3/envs/cs2-duels/lib/python3.10/multiprocessing/connection.py:424\u001B[0m, in \u001B[0;36mConnection._poll\u001B[0;34m(self, timeout)\u001B[0m\n\u001B[1;32m    423\u001B[0m \u001B[38;5;28;01mdef\u001B[39;00m \u001B[38;5;21m_poll\u001B[39m(\u001B[38;5;28mself\u001B[39m, timeout):\n\u001B[0;32m--> 424\u001B[0m     r \u001B[38;5;241m=\u001B[39m \u001B[43mwait\u001B[49m\u001B[43m(\u001B[49m\u001B[43m[\u001B[49m\u001B[38;5;28;43mself\u001B[39;49m\u001B[43m]\u001B[49m\u001B[43m,\u001B[49m\u001B[43m \u001B[49m\u001B[43mtimeout\u001B[49m\u001B[43m)\u001B[49m\n\u001B[1;32m    425\u001B[0m     \u001B[38;5;28;01mreturn\u001B[39;00m \u001B[38;5;28mbool\u001B[39m(r)\n",
      "File \u001B[0;32m~/opt/anaconda3/envs/cs2-duels/lib/python3.10/multiprocessing/connection.py:931\u001B[0m, in \u001B[0;36mwait\u001B[0;34m(object_list, timeout)\u001B[0m\n\u001B[1;32m    930\u001B[0m \u001B[38;5;28;01mwhile\u001B[39;00m \u001B[38;5;28;01mTrue\u001B[39;00m:\n\u001B[0;32m--> 931\u001B[0m     ready \u001B[38;5;241m=\u001B[39m \u001B[43mselector\u001B[49m\u001B[38;5;241;43m.\u001B[39;49m\u001B[43mselect\u001B[49m\u001B[43m(\u001B[49m\u001B[43mtimeout\u001B[49m\u001B[43m)\u001B[49m\n\u001B[1;32m    932\u001B[0m     \u001B[38;5;28;01mif\u001B[39;00m ready:\n",
      "File \u001B[0;32m~/opt/anaconda3/envs/cs2-duels/lib/python3.10/selectors.py:416\u001B[0m, in \u001B[0;36m_PollLikeSelector.select\u001B[0;34m(self, timeout)\u001B[0m\n\u001B[1;32m    415\u001B[0m \u001B[38;5;28;01mtry\u001B[39;00m:\n\u001B[0;32m--> 416\u001B[0m     fd_event_list \u001B[38;5;241m=\u001B[39m \u001B[38;5;28;43mself\u001B[39;49m\u001B[38;5;241;43m.\u001B[39;49m\u001B[43m_selector\u001B[49m\u001B[38;5;241;43m.\u001B[39;49m\u001B[43mpoll\u001B[49m\u001B[43m(\u001B[49m\u001B[43mtimeout\u001B[49m\u001B[43m)\u001B[49m\n\u001B[1;32m    417\u001B[0m \u001B[38;5;28;01mexcept\u001B[39;00m \u001B[38;5;167;01mInterruptedError\u001B[39;00m:\n",
      "File \u001B[0;32m~/opt/anaconda3/envs/cs2-duels/lib/python3.10/site-packages/torch/utils/data/_utils/signal_handling.py:67\u001B[0m, in \u001B[0;36m_set_SIGCHLD_handler.<locals>.handler\u001B[0;34m(signum, frame)\u001B[0m\n\u001B[1;32m     64\u001B[0m \u001B[38;5;28;01mdef\u001B[39;00m \u001B[38;5;21mhandler\u001B[39m(signum, frame):\n\u001B[1;32m     65\u001B[0m     \u001B[38;5;66;03m# This following call uses `waitid` with WNOHANG from C side. Therefore,\u001B[39;00m\n\u001B[1;32m     66\u001B[0m     \u001B[38;5;66;03m# Python can still get and update the process status successfully.\u001B[39;00m\n\u001B[0;32m---> 67\u001B[0m     \u001B[43m_error_if_any_worker_fails\u001B[49m\u001B[43m(\u001B[49m\u001B[43m)\u001B[49m\n\u001B[1;32m     68\u001B[0m     \u001B[38;5;28;01mif\u001B[39;00m previous_handler \u001B[38;5;129;01mis\u001B[39;00m \u001B[38;5;129;01mnot\u001B[39;00m \u001B[38;5;28;01mNone\u001B[39;00m:\n",
      "\u001B[0;31mRuntimeError\u001B[0m: DataLoader worker (pid 43842) is killed by signal: Interrupt: 2. ",
      "\nThe above exception was the direct cause of the following exception:\n",
      "\u001B[0;31mRuntimeError\u001B[0m                              Traceback (most recent call last)",
      "Cell \u001B[0;32mIn[84], line 3\u001B[0m\n\u001B[1;32m      1\u001B[0m model \u001B[38;5;241m=\u001B[39m LitModel(Model(\u001B[38;5;241m4\u001B[39m, \u001B[38;5;241m80\u001B[39m))\n\u001B[1;32m      2\u001B[0m trainer \u001B[38;5;241m=\u001B[39m L\u001B[38;5;241m.\u001B[39mTrainer(max_epochs\u001B[38;5;241m=\u001B[39m\u001B[38;5;241m50\u001B[39m)\n\u001B[0;32m----> 3\u001B[0m \u001B[43mtrainer\u001B[49m\u001B[38;5;241;43m.\u001B[39;49m\u001B[43mfit\u001B[49m\u001B[43m(\u001B[49m\u001B[43mmodel\u001B[49m\u001B[38;5;241;43m=\u001B[39;49m\u001B[43mmodel\u001B[49m\u001B[43m,\u001B[49m\u001B[43m \u001B[49m\u001B[43mtrain_dataloaders\u001B[49m\u001B[38;5;241;43m=\u001B[39;49m\u001B[43mtrain_dataloader\u001B[49m\u001B[43m,\u001B[49m\u001B[43m \u001B[49m\u001B[43mval_dataloaders\u001B[49m\u001B[38;5;241;43m=\u001B[39;49m\u001B[43mtest_dataloader\u001B[49m\u001B[43m)\u001B[49m\n",
      "File \u001B[0;32m~/opt/anaconda3/envs/cs2-duels/lib/python3.10/site-packages/lightning/pytorch/trainer/trainer.py:538\u001B[0m, in \u001B[0;36mTrainer.fit\u001B[0;34m(self, model, train_dataloaders, val_dataloaders, datamodule, ckpt_path)\u001B[0m\n\u001B[1;32m    536\u001B[0m \u001B[38;5;28mself\u001B[39m\u001B[38;5;241m.\u001B[39mstate\u001B[38;5;241m.\u001B[39mstatus \u001B[38;5;241m=\u001B[39m TrainerStatus\u001B[38;5;241m.\u001B[39mRUNNING\n\u001B[1;32m    537\u001B[0m \u001B[38;5;28mself\u001B[39m\u001B[38;5;241m.\u001B[39mtraining \u001B[38;5;241m=\u001B[39m \u001B[38;5;28;01mTrue\u001B[39;00m\n\u001B[0;32m--> 538\u001B[0m \u001B[43mcall\u001B[49m\u001B[38;5;241;43m.\u001B[39;49m\u001B[43m_call_and_handle_interrupt\u001B[49m\u001B[43m(\u001B[49m\n\u001B[1;32m    539\u001B[0m \u001B[43m    \u001B[49m\u001B[38;5;28;43mself\u001B[39;49m\u001B[43m,\u001B[49m\u001B[43m \u001B[49m\u001B[38;5;28;43mself\u001B[39;49m\u001B[38;5;241;43m.\u001B[39;49m\u001B[43m_fit_impl\u001B[49m\u001B[43m,\u001B[49m\u001B[43m \u001B[49m\u001B[43mmodel\u001B[49m\u001B[43m,\u001B[49m\u001B[43m \u001B[49m\u001B[43mtrain_dataloaders\u001B[49m\u001B[43m,\u001B[49m\u001B[43m \u001B[49m\u001B[43mval_dataloaders\u001B[49m\u001B[43m,\u001B[49m\u001B[43m \u001B[49m\u001B[43mdatamodule\u001B[49m\u001B[43m,\u001B[49m\u001B[43m \u001B[49m\u001B[43mckpt_path\u001B[49m\n\u001B[1;32m    540\u001B[0m \u001B[43m\u001B[49m\u001B[43m)\u001B[49m\n",
      "File \u001B[0;32m~/opt/anaconda3/envs/cs2-duels/lib/python3.10/site-packages/lightning/pytorch/trainer/call.py:47\u001B[0m, in \u001B[0;36m_call_and_handle_interrupt\u001B[0;34m(trainer, trainer_fn, *args, **kwargs)\u001B[0m\n\u001B[1;32m     45\u001B[0m     \u001B[38;5;28;01mif\u001B[39;00m trainer\u001B[38;5;241m.\u001B[39mstrategy\u001B[38;5;241m.\u001B[39mlauncher \u001B[38;5;129;01mis\u001B[39;00m \u001B[38;5;129;01mnot\u001B[39;00m \u001B[38;5;28;01mNone\u001B[39;00m:\n\u001B[1;32m     46\u001B[0m         \u001B[38;5;28;01mreturn\u001B[39;00m trainer\u001B[38;5;241m.\u001B[39mstrategy\u001B[38;5;241m.\u001B[39mlauncher\u001B[38;5;241m.\u001B[39mlaunch(trainer_fn, \u001B[38;5;241m*\u001B[39margs, trainer\u001B[38;5;241m=\u001B[39mtrainer, \u001B[38;5;241m*\u001B[39m\u001B[38;5;241m*\u001B[39mkwargs)\n\u001B[0;32m---> 47\u001B[0m     \u001B[38;5;28;01mreturn\u001B[39;00m \u001B[43mtrainer_fn\u001B[49m\u001B[43m(\u001B[49m\u001B[38;5;241;43m*\u001B[39;49m\u001B[43margs\u001B[49m\u001B[43m,\u001B[49m\u001B[43m \u001B[49m\u001B[38;5;241;43m*\u001B[39;49m\u001B[38;5;241;43m*\u001B[39;49m\u001B[43mkwargs\u001B[49m\u001B[43m)\u001B[49m\n\u001B[1;32m     49\u001B[0m \u001B[38;5;28;01mexcept\u001B[39;00m _TunerExitException:\n\u001B[1;32m     50\u001B[0m     _call_teardown_hook(trainer)\n",
      "File \u001B[0;32m~/opt/anaconda3/envs/cs2-duels/lib/python3.10/site-packages/lightning/pytorch/trainer/trainer.py:574\u001B[0m, in \u001B[0;36mTrainer._fit_impl\u001B[0;34m(self, model, train_dataloaders, val_dataloaders, datamodule, ckpt_path)\u001B[0m\n\u001B[1;32m    567\u001B[0m \u001B[38;5;28;01massert\u001B[39;00m \u001B[38;5;28mself\u001B[39m\u001B[38;5;241m.\u001B[39mstate\u001B[38;5;241m.\u001B[39mfn \u001B[38;5;129;01mis\u001B[39;00m \u001B[38;5;129;01mnot\u001B[39;00m \u001B[38;5;28;01mNone\u001B[39;00m\n\u001B[1;32m    568\u001B[0m ckpt_path \u001B[38;5;241m=\u001B[39m \u001B[38;5;28mself\u001B[39m\u001B[38;5;241m.\u001B[39m_checkpoint_connector\u001B[38;5;241m.\u001B[39m_select_ckpt_path(\n\u001B[1;32m    569\u001B[0m     \u001B[38;5;28mself\u001B[39m\u001B[38;5;241m.\u001B[39mstate\u001B[38;5;241m.\u001B[39mfn,\n\u001B[1;32m    570\u001B[0m     ckpt_path,\n\u001B[1;32m    571\u001B[0m     model_provided\u001B[38;5;241m=\u001B[39m\u001B[38;5;28;01mTrue\u001B[39;00m,\n\u001B[1;32m    572\u001B[0m     model_connected\u001B[38;5;241m=\u001B[39m\u001B[38;5;28mself\u001B[39m\u001B[38;5;241m.\u001B[39mlightning_module \u001B[38;5;129;01mis\u001B[39;00m \u001B[38;5;129;01mnot\u001B[39;00m \u001B[38;5;28;01mNone\u001B[39;00m,\n\u001B[1;32m    573\u001B[0m )\n\u001B[0;32m--> 574\u001B[0m \u001B[38;5;28;43mself\u001B[39;49m\u001B[38;5;241;43m.\u001B[39;49m\u001B[43m_run\u001B[49m\u001B[43m(\u001B[49m\u001B[43mmodel\u001B[49m\u001B[43m,\u001B[49m\u001B[43m \u001B[49m\u001B[43mckpt_path\u001B[49m\u001B[38;5;241;43m=\u001B[39;49m\u001B[43mckpt_path\u001B[49m\u001B[43m)\u001B[49m\n\u001B[1;32m    576\u001B[0m \u001B[38;5;28;01massert\u001B[39;00m \u001B[38;5;28mself\u001B[39m\u001B[38;5;241m.\u001B[39mstate\u001B[38;5;241m.\u001B[39mstopped\n\u001B[1;32m    577\u001B[0m \u001B[38;5;28mself\u001B[39m\u001B[38;5;241m.\u001B[39mtraining \u001B[38;5;241m=\u001B[39m \u001B[38;5;28;01mFalse\u001B[39;00m\n",
      "File \u001B[0;32m~/opt/anaconda3/envs/cs2-duels/lib/python3.10/site-packages/lightning/pytorch/trainer/trainer.py:981\u001B[0m, in \u001B[0;36mTrainer._run\u001B[0;34m(self, model, ckpt_path)\u001B[0m\n\u001B[1;32m    976\u001B[0m \u001B[38;5;28mself\u001B[39m\u001B[38;5;241m.\u001B[39m_signal_connector\u001B[38;5;241m.\u001B[39mregister_signal_handlers()\n\u001B[1;32m    978\u001B[0m \u001B[38;5;66;03m# ----------------------------\u001B[39;00m\n\u001B[1;32m    979\u001B[0m \u001B[38;5;66;03m# RUN THE TRAINER\u001B[39;00m\n\u001B[1;32m    980\u001B[0m \u001B[38;5;66;03m# ----------------------------\u001B[39;00m\n\u001B[0;32m--> 981\u001B[0m results \u001B[38;5;241m=\u001B[39m \u001B[38;5;28;43mself\u001B[39;49m\u001B[38;5;241;43m.\u001B[39;49m\u001B[43m_run_stage\u001B[49m\u001B[43m(\u001B[49m\u001B[43m)\u001B[49m\n\u001B[1;32m    983\u001B[0m \u001B[38;5;66;03m# ----------------------------\u001B[39;00m\n\u001B[1;32m    984\u001B[0m \u001B[38;5;66;03m# POST-Training CLEAN UP\u001B[39;00m\n\u001B[1;32m    985\u001B[0m \u001B[38;5;66;03m# ----------------------------\u001B[39;00m\n\u001B[1;32m    986\u001B[0m log\u001B[38;5;241m.\u001B[39mdebug(\u001B[38;5;124mf\u001B[39m\u001B[38;5;124m\"\u001B[39m\u001B[38;5;132;01m{\u001B[39;00m\u001B[38;5;28mself\u001B[39m\u001B[38;5;241m.\u001B[39m\u001B[38;5;18m__class__\u001B[39m\u001B[38;5;241m.\u001B[39m\u001B[38;5;18m__name__\u001B[39m\u001B[38;5;132;01m}\u001B[39;00m\u001B[38;5;124m: trainer tearing down\u001B[39m\u001B[38;5;124m\"\u001B[39m)\n",
      "File \u001B[0;32m~/opt/anaconda3/envs/cs2-duels/lib/python3.10/site-packages/lightning/pytorch/trainer/trainer.py:1025\u001B[0m, in \u001B[0;36mTrainer._run_stage\u001B[0;34m(self)\u001B[0m\n\u001B[1;32m   1023\u001B[0m         \u001B[38;5;28mself\u001B[39m\u001B[38;5;241m.\u001B[39m_run_sanity_check()\n\u001B[1;32m   1024\u001B[0m     \u001B[38;5;28;01mwith\u001B[39;00m torch\u001B[38;5;241m.\u001B[39mautograd\u001B[38;5;241m.\u001B[39mset_detect_anomaly(\u001B[38;5;28mself\u001B[39m\u001B[38;5;241m.\u001B[39m_detect_anomaly):\n\u001B[0;32m-> 1025\u001B[0m         \u001B[38;5;28;43mself\u001B[39;49m\u001B[38;5;241;43m.\u001B[39;49m\u001B[43mfit_loop\u001B[49m\u001B[38;5;241;43m.\u001B[39;49m\u001B[43mrun\u001B[49m\u001B[43m(\u001B[49m\u001B[43m)\u001B[49m\n\u001B[1;32m   1026\u001B[0m     \u001B[38;5;28;01mreturn\u001B[39;00m \u001B[38;5;28;01mNone\u001B[39;00m\n\u001B[1;32m   1027\u001B[0m \u001B[38;5;28;01mraise\u001B[39;00m \u001B[38;5;167;01mRuntimeError\u001B[39;00m(\u001B[38;5;124mf\u001B[39m\u001B[38;5;124m\"\u001B[39m\u001B[38;5;124mUnexpected state \u001B[39m\u001B[38;5;132;01m{\u001B[39;00m\u001B[38;5;28mself\u001B[39m\u001B[38;5;241m.\u001B[39mstate\u001B[38;5;132;01m}\u001B[39;00m\u001B[38;5;124m\"\u001B[39m)\n",
      "File \u001B[0;32m~/opt/anaconda3/envs/cs2-duels/lib/python3.10/site-packages/lightning/pytorch/loops/fit_loop.py:205\u001B[0m, in \u001B[0;36m_FitLoop.run\u001B[0;34m(self)\u001B[0m\n\u001B[1;32m    203\u001B[0m \u001B[38;5;28;01mtry\u001B[39;00m:\n\u001B[1;32m    204\u001B[0m     \u001B[38;5;28mself\u001B[39m\u001B[38;5;241m.\u001B[39mon_advance_start()\n\u001B[0;32m--> 205\u001B[0m     \u001B[38;5;28;43mself\u001B[39;49m\u001B[38;5;241;43m.\u001B[39;49m\u001B[43madvance\u001B[49m\u001B[43m(\u001B[49m\u001B[43m)\u001B[49m\n\u001B[1;32m    206\u001B[0m     \u001B[38;5;28mself\u001B[39m\u001B[38;5;241m.\u001B[39mon_advance_end()\n\u001B[1;32m    207\u001B[0m     \u001B[38;5;28mself\u001B[39m\u001B[38;5;241m.\u001B[39m_restarting \u001B[38;5;241m=\u001B[39m \u001B[38;5;28;01mFalse\u001B[39;00m\n",
      "File \u001B[0;32m~/opt/anaconda3/envs/cs2-duels/lib/python3.10/site-packages/lightning/pytorch/loops/fit_loop.py:363\u001B[0m, in \u001B[0;36m_FitLoop.advance\u001B[0;34m(self)\u001B[0m\n\u001B[1;32m    361\u001B[0m \u001B[38;5;28;01mwith\u001B[39;00m \u001B[38;5;28mself\u001B[39m\u001B[38;5;241m.\u001B[39mtrainer\u001B[38;5;241m.\u001B[39mprofiler\u001B[38;5;241m.\u001B[39mprofile(\u001B[38;5;124m\"\u001B[39m\u001B[38;5;124mrun_training_epoch\u001B[39m\u001B[38;5;124m\"\u001B[39m):\n\u001B[1;32m    362\u001B[0m     \u001B[38;5;28;01massert\u001B[39;00m \u001B[38;5;28mself\u001B[39m\u001B[38;5;241m.\u001B[39m_data_fetcher \u001B[38;5;129;01mis\u001B[39;00m \u001B[38;5;129;01mnot\u001B[39;00m \u001B[38;5;28;01mNone\u001B[39;00m\n\u001B[0;32m--> 363\u001B[0m     \u001B[38;5;28;43mself\u001B[39;49m\u001B[38;5;241;43m.\u001B[39;49m\u001B[43mepoch_loop\u001B[49m\u001B[38;5;241;43m.\u001B[39;49m\u001B[43mrun\u001B[49m\u001B[43m(\u001B[49m\u001B[38;5;28;43mself\u001B[39;49m\u001B[38;5;241;43m.\u001B[39;49m\u001B[43m_data_fetcher\u001B[49m\u001B[43m)\u001B[49m\n",
      "File \u001B[0;32m~/opt/anaconda3/envs/cs2-duels/lib/python3.10/site-packages/lightning/pytorch/loops/training_epoch_loop.py:140\u001B[0m, in \u001B[0;36m_TrainingEpochLoop.run\u001B[0;34m(self, data_fetcher)\u001B[0m\n\u001B[1;32m    138\u001B[0m \u001B[38;5;28;01mwhile\u001B[39;00m \u001B[38;5;129;01mnot\u001B[39;00m \u001B[38;5;28mself\u001B[39m\u001B[38;5;241m.\u001B[39mdone:\n\u001B[1;32m    139\u001B[0m     \u001B[38;5;28;01mtry\u001B[39;00m:\n\u001B[0;32m--> 140\u001B[0m         \u001B[38;5;28;43mself\u001B[39;49m\u001B[38;5;241;43m.\u001B[39;49m\u001B[43madvance\u001B[49m\u001B[43m(\u001B[49m\u001B[43mdata_fetcher\u001B[49m\u001B[43m)\u001B[49m\n\u001B[1;32m    141\u001B[0m         \u001B[38;5;28mself\u001B[39m\u001B[38;5;241m.\u001B[39mon_advance_end(data_fetcher)\n\u001B[1;32m    142\u001B[0m         \u001B[38;5;28mself\u001B[39m\u001B[38;5;241m.\u001B[39m_restarting \u001B[38;5;241m=\u001B[39m \u001B[38;5;28;01mFalse\u001B[39;00m\n",
      "File \u001B[0;32m~/opt/anaconda3/envs/cs2-duels/lib/python3.10/site-packages/lightning/pytorch/loops/training_epoch_loop.py:212\u001B[0m, in \u001B[0;36m_TrainingEpochLoop.advance\u001B[0;34m(self, data_fetcher)\u001B[0m\n\u001B[1;32m    210\u001B[0m \u001B[38;5;28;01melse\u001B[39;00m:\n\u001B[1;32m    211\u001B[0m     dataloader_iter \u001B[38;5;241m=\u001B[39m \u001B[38;5;28;01mNone\u001B[39;00m\n\u001B[0;32m--> 212\u001B[0m     batch, _, __ \u001B[38;5;241m=\u001B[39m \u001B[38;5;28;43mnext\u001B[39;49m\u001B[43m(\u001B[49m\u001B[43mdata_fetcher\u001B[49m\u001B[43m)\u001B[49m\n\u001B[1;32m    213\u001B[0m     \u001B[38;5;66;03m# TODO: we should instead use the batch_idx returned by the fetcher, however, that will require saving the\u001B[39;00m\n\u001B[1;32m    214\u001B[0m     \u001B[38;5;66;03m# fetcher state so that the batch_idx is correct after restarting\u001B[39;00m\n\u001B[1;32m    215\u001B[0m     batch_idx \u001B[38;5;241m=\u001B[39m \u001B[38;5;28mself\u001B[39m\u001B[38;5;241m.\u001B[39mbatch_idx \u001B[38;5;241m+\u001B[39m \u001B[38;5;241m1\u001B[39m\n",
      "File \u001B[0;32m~/opt/anaconda3/envs/cs2-duels/lib/python3.10/site-packages/lightning/pytorch/loops/fetchers.py:133\u001B[0m, in \u001B[0;36m_PrefetchDataFetcher.__next__\u001B[0;34m(self)\u001B[0m\n\u001B[1;32m    130\u001B[0m         \u001B[38;5;28mself\u001B[39m\u001B[38;5;241m.\u001B[39mdone \u001B[38;5;241m=\u001B[39m \u001B[38;5;129;01mnot\u001B[39;00m \u001B[38;5;28mself\u001B[39m\u001B[38;5;241m.\u001B[39mbatches\n\u001B[1;32m    131\u001B[0m \u001B[38;5;28;01melif\u001B[39;00m \u001B[38;5;129;01mnot\u001B[39;00m \u001B[38;5;28mself\u001B[39m\u001B[38;5;241m.\u001B[39mdone:\n\u001B[1;32m    132\u001B[0m     \u001B[38;5;66;03m# this will run only when no pre-fetching was done.\u001B[39;00m\n\u001B[0;32m--> 133\u001B[0m     batch \u001B[38;5;241m=\u001B[39m \u001B[38;5;28;43msuper\u001B[39;49m\u001B[43m(\u001B[49m\u001B[43m)\u001B[49m\u001B[38;5;241;43m.\u001B[39;49m\u001B[38;5;21;43m__next__\u001B[39;49m\u001B[43m(\u001B[49m\u001B[43m)\u001B[49m\n\u001B[1;32m    134\u001B[0m \u001B[38;5;28;01melse\u001B[39;00m:\n\u001B[1;32m    135\u001B[0m     \u001B[38;5;66;03m# the iterator is empty\u001B[39;00m\n\u001B[1;32m    136\u001B[0m     \u001B[38;5;28;01mraise\u001B[39;00m \u001B[38;5;167;01mStopIteration\u001B[39;00m\n",
      "File \u001B[0;32m~/opt/anaconda3/envs/cs2-duels/lib/python3.10/site-packages/lightning/pytorch/loops/fetchers.py:60\u001B[0m, in \u001B[0;36m_DataFetcher.__next__\u001B[0;34m(self)\u001B[0m\n\u001B[1;32m     58\u001B[0m \u001B[38;5;28mself\u001B[39m\u001B[38;5;241m.\u001B[39m_start_profiler()\n\u001B[1;32m     59\u001B[0m \u001B[38;5;28;01mtry\u001B[39;00m:\n\u001B[0;32m---> 60\u001B[0m     batch \u001B[38;5;241m=\u001B[39m \u001B[38;5;28;43mnext\u001B[39;49m\u001B[43m(\u001B[49m\u001B[38;5;28;43mself\u001B[39;49m\u001B[38;5;241;43m.\u001B[39;49m\u001B[43miterator\u001B[49m\u001B[43m)\u001B[49m\n\u001B[1;32m     61\u001B[0m \u001B[38;5;28;01mexcept\u001B[39;00m \u001B[38;5;167;01mStopIteration\u001B[39;00m:\n\u001B[1;32m     62\u001B[0m     \u001B[38;5;28mself\u001B[39m\u001B[38;5;241m.\u001B[39mdone \u001B[38;5;241m=\u001B[39m \u001B[38;5;28;01mTrue\u001B[39;00m\n",
      "File \u001B[0;32m~/opt/anaconda3/envs/cs2-duels/lib/python3.10/site-packages/lightning/pytorch/utilities/combined_loader.py:341\u001B[0m, in \u001B[0;36mCombinedLoader.__next__\u001B[0;34m(self)\u001B[0m\n\u001B[1;32m    339\u001B[0m \u001B[38;5;28;01mdef\u001B[39;00m \u001B[38;5;21m__next__\u001B[39m(\u001B[38;5;28mself\u001B[39m) \u001B[38;5;241m-\u001B[39m\u001B[38;5;241m>\u001B[39m _ITERATOR_RETURN:\n\u001B[1;32m    340\u001B[0m     \u001B[38;5;28;01massert\u001B[39;00m \u001B[38;5;28mself\u001B[39m\u001B[38;5;241m.\u001B[39m_iterator \u001B[38;5;129;01mis\u001B[39;00m \u001B[38;5;129;01mnot\u001B[39;00m \u001B[38;5;28;01mNone\u001B[39;00m\n\u001B[0;32m--> 341\u001B[0m     out \u001B[38;5;241m=\u001B[39m \u001B[38;5;28;43mnext\u001B[39;49m\u001B[43m(\u001B[49m\u001B[38;5;28;43mself\u001B[39;49m\u001B[38;5;241;43m.\u001B[39;49m\u001B[43m_iterator\u001B[49m\u001B[43m)\u001B[49m\n\u001B[1;32m    342\u001B[0m     \u001B[38;5;28;01mif\u001B[39;00m \u001B[38;5;28misinstance\u001B[39m(\u001B[38;5;28mself\u001B[39m\u001B[38;5;241m.\u001B[39m_iterator, _Sequential):\n\u001B[1;32m    343\u001B[0m         \u001B[38;5;28;01mreturn\u001B[39;00m out\n",
      "File \u001B[0;32m~/opt/anaconda3/envs/cs2-duels/lib/python3.10/site-packages/lightning/pytorch/utilities/combined_loader.py:78\u001B[0m, in \u001B[0;36m_MaxSizeCycle.__next__\u001B[0;34m(self)\u001B[0m\n\u001B[1;32m     76\u001B[0m \u001B[38;5;28;01mfor\u001B[39;00m i \u001B[38;5;129;01min\u001B[39;00m \u001B[38;5;28mrange\u001B[39m(n):\n\u001B[1;32m     77\u001B[0m     \u001B[38;5;28;01mtry\u001B[39;00m:\n\u001B[0;32m---> 78\u001B[0m         out[i] \u001B[38;5;241m=\u001B[39m \u001B[38;5;28;43mnext\u001B[39;49m\u001B[43m(\u001B[49m\u001B[38;5;28;43mself\u001B[39;49m\u001B[38;5;241;43m.\u001B[39;49m\u001B[43miterators\u001B[49m\u001B[43m[\u001B[49m\u001B[43mi\u001B[49m\u001B[43m]\u001B[49m\u001B[43m)\u001B[49m\n\u001B[1;32m     79\u001B[0m     \u001B[38;5;28;01mexcept\u001B[39;00m \u001B[38;5;167;01mStopIteration\u001B[39;00m:\n\u001B[1;32m     80\u001B[0m         \u001B[38;5;28mself\u001B[39m\u001B[38;5;241m.\u001B[39m_consumed[i] \u001B[38;5;241m=\u001B[39m \u001B[38;5;28;01mTrue\u001B[39;00m\n",
      "File \u001B[0;32m~/opt/anaconda3/envs/cs2-duels/lib/python3.10/site-packages/torch/utils/data/dataloader.py:630\u001B[0m, in \u001B[0;36m_BaseDataLoaderIter.__next__\u001B[0;34m(self)\u001B[0m\n\u001B[1;32m    627\u001B[0m \u001B[38;5;28;01mif\u001B[39;00m \u001B[38;5;28mself\u001B[39m\u001B[38;5;241m.\u001B[39m_sampler_iter \u001B[38;5;129;01mis\u001B[39;00m \u001B[38;5;28;01mNone\u001B[39;00m:\n\u001B[1;32m    628\u001B[0m     \u001B[38;5;66;03m# TODO(https://github.com/pytorch/pytorch/issues/76750)\u001B[39;00m\n\u001B[1;32m    629\u001B[0m     \u001B[38;5;28mself\u001B[39m\u001B[38;5;241m.\u001B[39m_reset()  \u001B[38;5;66;03m# type: ignore[call-arg]\u001B[39;00m\n\u001B[0;32m--> 630\u001B[0m data \u001B[38;5;241m=\u001B[39m \u001B[38;5;28;43mself\u001B[39;49m\u001B[38;5;241;43m.\u001B[39;49m\u001B[43m_next_data\u001B[49m\u001B[43m(\u001B[49m\u001B[43m)\u001B[49m\n\u001B[1;32m    631\u001B[0m \u001B[38;5;28mself\u001B[39m\u001B[38;5;241m.\u001B[39m_num_yielded \u001B[38;5;241m+\u001B[39m\u001B[38;5;241m=\u001B[39m \u001B[38;5;241m1\u001B[39m\n\u001B[1;32m    632\u001B[0m \u001B[38;5;28;01mif\u001B[39;00m \u001B[38;5;28mself\u001B[39m\u001B[38;5;241m.\u001B[39m_dataset_kind \u001B[38;5;241m==\u001B[39m _DatasetKind\u001B[38;5;241m.\u001B[39mIterable \u001B[38;5;129;01mand\u001B[39;00m \\\n\u001B[1;32m    633\u001B[0m         \u001B[38;5;28mself\u001B[39m\u001B[38;5;241m.\u001B[39m_IterableDataset_len_called \u001B[38;5;129;01mis\u001B[39;00m \u001B[38;5;129;01mnot\u001B[39;00m \u001B[38;5;28;01mNone\u001B[39;00m \u001B[38;5;129;01mand\u001B[39;00m \\\n\u001B[1;32m    634\u001B[0m         \u001B[38;5;28mself\u001B[39m\u001B[38;5;241m.\u001B[39m_num_yielded \u001B[38;5;241m>\u001B[39m \u001B[38;5;28mself\u001B[39m\u001B[38;5;241m.\u001B[39m_IterableDataset_len_called:\n",
      "File \u001B[0;32m~/opt/anaconda3/envs/cs2-duels/lib/python3.10/site-packages/torch/utils/data/dataloader.py:1327\u001B[0m, in \u001B[0;36m_MultiProcessingDataLoaderIter._next_data\u001B[0;34m(self)\u001B[0m\n\u001B[1;32m   1324\u001B[0m     \u001B[38;5;28;01mreturn\u001B[39;00m \u001B[38;5;28mself\u001B[39m\u001B[38;5;241m.\u001B[39m_process_data(data)\n\u001B[1;32m   1326\u001B[0m \u001B[38;5;28;01massert\u001B[39;00m \u001B[38;5;129;01mnot\u001B[39;00m \u001B[38;5;28mself\u001B[39m\u001B[38;5;241m.\u001B[39m_shutdown \u001B[38;5;129;01mand\u001B[39;00m \u001B[38;5;28mself\u001B[39m\u001B[38;5;241m.\u001B[39m_tasks_outstanding \u001B[38;5;241m>\u001B[39m \u001B[38;5;241m0\u001B[39m\n\u001B[0;32m-> 1327\u001B[0m idx, data \u001B[38;5;241m=\u001B[39m \u001B[38;5;28;43mself\u001B[39;49m\u001B[38;5;241;43m.\u001B[39;49m\u001B[43m_get_data\u001B[49m\u001B[43m(\u001B[49m\u001B[43m)\u001B[49m\n\u001B[1;32m   1328\u001B[0m \u001B[38;5;28mself\u001B[39m\u001B[38;5;241m.\u001B[39m_tasks_outstanding \u001B[38;5;241m-\u001B[39m\u001B[38;5;241m=\u001B[39m \u001B[38;5;241m1\u001B[39m\n\u001B[1;32m   1329\u001B[0m \u001B[38;5;28;01mif\u001B[39;00m \u001B[38;5;28mself\u001B[39m\u001B[38;5;241m.\u001B[39m_dataset_kind \u001B[38;5;241m==\u001B[39m _DatasetKind\u001B[38;5;241m.\u001B[39mIterable:\n\u001B[1;32m   1330\u001B[0m     \u001B[38;5;66;03m# Check for _IterableDatasetStopIteration\u001B[39;00m\n",
      "File \u001B[0;32m~/opt/anaconda3/envs/cs2-duels/lib/python3.10/site-packages/torch/utils/data/dataloader.py:1293\u001B[0m, in \u001B[0;36m_MultiProcessingDataLoaderIter._get_data\u001B[0;34m(self)\u001B[0m\n\u001B[1;32m   1289\u001B[0m     \u001B[38;5;66;03m# In this case, `self._data_queue` is a `queue.Queue`,. But we don't\u001B[39;00m\n\u001B[1;32m   1290\u001B[0m     \u001B[38;5;66;03m# need to call `.task_done()` because we don't use `.join()`.\u001B[39;00m\n\u001B[1;32m   1291\u001B[0m \u001B[38;5;28;01melse\u001B[39;00m:\n\u001B[1;32m   1292\u001B[0m     \u001B[38;5;28;01mwhile\u001B[39;00m \u001B[38;5;28;01mTrue\u001B[39;00m:\n\u001B[0;32m-> 1293\u001B[0m         success, data \u001B[38;5;241m=\u001B[39m \u001B[38;5;28;43mself\u001B[39;49m\u001B[38;5;241;43m.\u001B[39;49m\u001B[43m_try_get_data\u001B[49m\u001B[43m(\u001B[49m\u001B[43m)\u001B[49m\n\u001B[1;32m   1294\u001B[0m         \u001B[38;5;28;01mif\u001B[39;00m success:\n\u001B[1;32m   1295\u001B[0m             \u001B[38;5;28;01mreturn\u001B[39;00m data\n",
      "File \u001B[0;32m~/opt/anaconda3/envs/cs2-duels/lib/python3.10/site-packages/torch/utils/data/dataloader.py:1144\u001B[0m, in \u001B[0;36m_MultiProcessingDataLoaderIter._try_get_data\u001B[0;34m(self, timeout)\u001B[0m\n\u001B[1;32m   1142\u001B[0m \u001B[38;5;28;01mif\u001B[39;00m \u001B[38;5;28mlen\u001B[39m(failed_workers) \u001B[38;5;241m>\u001B[39m \u001B[38;5;241m0\u001B[39m:\n\u001B[1;32m   1143\u001B[0m     pids_str \u001B[38;5;241m=\u001B[39m \u001B[38;5;124m'\u001B[39m\u001B[38;5;124m, \u001B[39m\u001B[38;5;124m'\u001B[39m\u001B[38;5;241m.\u001B[39mjoin(\u001B[38;5;28mstr\u001B[39m(w\u001B[38;5;241m.\u001B[39mpid) \u001B[38;5;28;01mfor\u001B[39;00m w \u001B[38;5;129;01min\u001B[39;00m failed_workers)\n\u001B[0;32m-> 1144\u001B[0m     \u001B[38;5;28;01mraise\u001B[39;00m \u001B[38;5;167;01mRuntimeError\u001B[39;00m(\u001B[38;5;124mf\u001B[39m\u001B[38;5;124m'\u001B[39m\u001B[38;5;124mDataLoader worker (pid(s) \u001B[39m\u001B[38;5;132;01m{\u001B[39;00mpids_str\u001B[38;5;132;01m}\u001B[39;00m\u001B[38;5;124m) exited unexpectedly\u001B[39m\u001B[38;5;124m'\u001B[39m) \u001B[38;5;28;01mfrom\u001B[39;00m \u001B[38;5;21;01me\u001B[39;00m\n\u001B[1;32m   1145\u001B[0m \u001B[38;5;28;01mif\u001B[39;00m \u001B[38;5;28misinstance\u001B[39m(e, queue\u001B[38;5;241m.\u001B[39mEmpty):\n\u001B[1;32m   1146\u001B[0m     \u001B[38;5;28;01mreturn\u001B[39;00m (\u001B[38;5;28;01mFalse\u001B[39;00m, \u001B[38;5;28;01mNone\u001B[39;00m)\n",
      "\u001B[0;31mRuntimeError\u001B[0m: DataLoader worker (pid(s) 43842) exited unexpectedly"
     ]
    }
   ],
   "execution_count": 84
  },
  {
   "metadata": {
    "ExecuteTime": {
     "end_time": "2024-10-11T13:15:39.987138Z",
     "start_time": "2024-10-11T13:15:39.984772Z"
    }
   },
   "cell_type": "code",
   "source": "model.ann",
   "id": "33c1f4c8fb9d1e06",
   "outputs": [
    {
     "data": {
      "text/plain": [
       "Model(\n",
       "  (lstm): LSTM(4, 32, num_layers=4, batch_first=True, dropout=0.3)\n",
       "  (linear): Linear(in_features=128, out_features=1, bias=True)\n",
       ")"
      ]
     },
     "execution_count": 68,
     "metadata": {},
     "output_type": "execute_result"
    }
   ],
   "execution_count": 68
  },
  {
   "metadata": {
    "ExecuteTime": {
     "end_time": "2024-10-11T13:25:50.622196Z",
     "start_time": "2024-10-11T13:25:46.007715Z"
    }
   },
   "cell_type": "code",
   "source": [
    "from torcheval.metrics import BinaryAccuracy\n",
    "\n",
    "metric = BinaryAccuracy()\n",
    "for temporal, snapshot, y in train_dataloader:\n",
    "    y_hat = model.ann(temporal, snapshot.float()).flatten()\n",
    "    # y_hat = torch.where(y_hat > 0.5, torch.ones_like(y_hat), torch.zeros_like(y_hat))\n",
    "    metric.update(y_hat, y)\n",
    "print(\"train\", metric.compute())\n",
    "\n",
    "metric = BinaryAccuracy()\n",
    "for temporal, snapshot, y in test_dataloader:\n",
    "    y_hat = model.ann(temporal, snapshot.float()).flatten()\n",
    "    # y_hat = torch.where(y_hat > 0.5, torch.ones_like(y_hat), torch.zeros_like(y_hat))\n",
    "    metric.update(y_hat, y)\n",
    "print(\"test\", metric.compute())"
   ],
   "id": "22fb4097e121a2ed",
   "outputs": [
    {
     "name": "stdout",
     "output_type": "stream",
     "text": [
      "train tensor(0.6585)\n",
      "test tensor(0.6115)\n"
     ]
    }
   ],
   "execution_count": 81
  },
  {
   "metadata": {},
   "cell_type": "code",
   "outputs": [],
   "execution_count": null,
   "source": "",
   "id": "6281674cabd460bc"
  }
 ],
 "metadata": {
  "kernelspec": {
   "display_name": "Python 3",
   "language": "python",
   "name": "python3"
  },
  "language_info": {
   "codemirror_mode": {
    "name": "ipython",
    "version": 2
   },
   "file_extension": ".py",
   "mimetype": "text/x-python",
   "name": "python",
   "nbconvert_exporter": "python",
   "pygments_lexer": "ipython2",
   "version": "2.7.6"
  }
 },
 "nbformat": 4,
 "nbformat_minor": 5
}
